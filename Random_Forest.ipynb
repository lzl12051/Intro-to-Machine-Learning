{
 "cells": [
  {
   "cell_type": "markdown",
   "metadata": {},
   "source": [
    "# 随机森林分类器"
   ]
  },
  {
   "cell_type": "markdown",
   "metadata": {},
   "source": [
    "## 一些准备工作和函数定义\n",
    "先定义了一个地形数据的产生器："
   ]
  },
  {
   "cell_type": "code",
   "execution_count": 1,
   "metadata": {
    "ExecuteTime": {
     "end_time": "2019-08-11T14:01:07.977499Z",
     "start_time": "2019-08-11T14:01:07.958774Z"
    },
    "code_folding": [
     4
    ]
   },
   "outputs": [],
   "source": [
    "#!/usr/bin/python\n",
    "import random\n",
    "\n",
    "\n",
    "def makeTerrainData(n_points=5000):\n",
    "    ###############################################################################\n",
    "    # make the toy dataset\n",
    "    random.seed(42)\n",
    "    grade = [random.random() for ii in range(0, n_points)]\n",
    "    bumpy = [random.random() for ii in range(0, n_points)]\n",
    "    error = [random.random() for ii in range(0, n_points)]\n",
    "    y = [round(grade[ii]*bumpy[ii]+0.3+0.1*error[ii])\n",
    "         for ii in range(0, n_points)]\n",
    "    for ii in range(0, len(y)):\n",
    "        if grade[ii] > 0.8 or bumpy[ii] > 0.8:\n",
    "            y[ii] = 1.0\n",
    "\n",
    "# split into train/test sets\n",
    "    X = [[gg, ss] for gg, ss in zip(grade, bumpy)]\n",
    "    split = int(0.75*n_points)\n",
    "    X_train = X[0:split]\n",
    "    X_test = X[split:]\n",
    "    y_train = y[0:split]\n",
    "    y_test = y[split:]\n",
    "\n",
    "    grade_sig = [X_train[ii][0]\n",
    "                 for ii in range(0, len(X_train)) if y_train[ii] == 0]\n",
    "    bumpy_sig = [X_train[ii][1]\n",
    "                 for ii in range(0, len(X_train)) if y_train[ii] == 0]\n",
    "    grade_bkg = [X_train[ii][0]\n",
    "                 for ii in range(0, len(X_train)) if y_train[ii] == 1]\n",
    "    bumpy_bkg = [X_train[ii][1]\n",
    "                 for ii in range(0, len(X_train)) if y_train[ii] == 1]\n",
    "\n",
    "    training_data = {\"fast\": {\"grade\": grade_sig, \"bumpiness\": bumpy_sig}, \"slow\": {\n",
    "        \"grade\": grade_bkg, \"bumpiness\": bumpy_bkg}}\n",
    "\n",
    "    grade_sig = [X_test[ii][0]\n",
    "                 for ii in range(0, len(X_test)) if y_test[ii] == 0]\n",
    "    bumpy_sig = [X_test[ii][1]\n",
    "                 for ii in range(0, len(X_test)) if y_test[ii] == 0]\n",
    "    grade_bkg = [X_test[ii][0]\n",
    "                 for ii in range(0, len(X_test)) if y_test[ii] == 1]\n",
    "    bumpy_bkg = [X_test[ii][1]\n",
    "                 for ii in range(0, len(X_test)) if y_test[ii] == 1]\n",
    "\n",
    "    test_data = {\"fast\": {\"grade\": grade_sig, \"bumpiness\": bumpy_sig},\n",
    "                 \"low\": {\"grade\": grade_bkg, \"bumpiness\": bumpy_bkg}}\n",
    "\n",
    "    return X_train, y_train, X_test, y_test"
   ]
  },
  {
   "cell_type": "markdown",
   "metadata": {},
   "source": [
    "定义出绘图函数 prettyPicture"
   ]
  },
  {
   "cell_type": "code",
   "execution_count": 2,
   "metadata": {
    "ExecuteTime": {
     "end_time": "2019-08-11T14:01:09.056760Z",
     "start_time": "2019-08-11T14:01:08.823861Z"
    },
    "code_folding": [
     9,
     48
    ]
   },
   "outputs": [],
   "source": [
    "#!/usr/bin/python\n",
    "\n",
    "import base64\n",
    "import json\n",
    "import matplotlib.pyplot as plt\n",
    "import numpy as np\n",
    "import pylab as pl\n",
    "\n",
    "\n",
    "def prettyPicture(clf, X_test, y_test):\n",
    "    x_min = 0.0\n",
    "    x_max = 1.0\n",
    "    y_min = 0.0\n",
    "    y_max = 1.0\n",
    "\n",
    "    # Plot the decision boundary. For that, we will assign a color to each\n",
    "    # point in the mesh [x_min, m_max]x[y_min, y_max].\n",
    "    h = .01  # step size in the mesh\n",
    "    xx, yy = np.meshgrid(np.arange(x_min, x_max, h),\n",
    "                         np.arange(y_min, y_max, h))\n",
    "    Z = clf.predict(np.c_[xx.ravel(), yy.ravel()])\n",
    "\n",
    "    # Put the result into a color plot\n",
    "    Z = Z.reshape(xx.shape)\n",
    "    plt.xlim(xx.min(), xx.max())\n",
    "    plt.ylim(yy.min(), yy.max())\n",
    "\n",
    "    plt.pcolormesh(xx, yy, Z, cmap=pl.cm.seismic)\n",
    "\n",
    "    # Plot also the test points\n",
    "    grade_sig = [X_test[ii][0]\n",
    "                 for ii in range(0, len(X_test)) if y_test[ii] == 0]\n",
    "    bumpy_sig = [X_test[ii][1]\n",
    "                 for ii in range(0, len(X_test)) if y_test[ii] == 0]\n",
    "    grade_bkg = [X_test[ii][0]\n",
    "                 for ii in range(0, len(X_test)) if y_test[ii] == 1]\n",
    "    bumpy_bkg = [X_test[ii][1]\n",
    "                 for ii in range(0, len(X_test)) if y_test[ii] == 1]\n",
    "\n",
    "    plt.scatter(grade_sig, bumpy_sig, color=\"b\", label=\"fast\")\n",
    "    plt.scatter(grade_bkg, bumpy_bkg, color=\"r\", label=\"slow\")\n",
    "    plt.legend()\n",
    "    plt.xlabel(\"bumpiness\")\n",
    "    plt.ylabel(\"grade\")\n",
    "\n",
    "    #plt.savefig(\"test.png\",dpi=300)\n",
    "\n",
    "\n",
    "def output_image(name, format, bytes):\n",
    "    image_start = \"BEGIN_IMAGE_f9825uweof8jw9fj4r8\"\n",
    "    image_end = \"END_IMAGE_0238jfw08fjsiufhw8frs\"\n",
    "    data = {}\n",
    "    data['name'] = name\n",
    "    data['format'] = format\n",
    "    data['bytes'] = base64.encodestring(bytes)\n",
    "    print(image_start+json.dumps(data)+image_end)"
   ]
  },
  {
   "cell_type": "markdown",
   "metadata": {},
   "source": [
    "## 主要代码如下：\n",
    "导入 *matplotlib* 并且使用 *%matplotlib inline* 魔法语句强制在 notebook 中绘图输出"
   ]
  },
  {
   "cell_type": "code",
   "execution_count": 3,
   "metadata": {
    "ExecuteTime": {
     "end_time": "2019-08-11T14:01:10.211414Z",
     "start_time": "2019-08-11T14:01:10.206082Z"
    }
   },
   "outputs": [],
   "source": [
    "import matplotlib.pyplot as plt\n",
    "%matplotlib inline"
   ]
  },
  {
   "cell_type": "code",
   "execution_count": 4,
   "metadata": {
    "ExecuteTime": {
     "end_time": "2019-08-11T14:14:56.911309Z",
     "start_time": "2019-08-11T14:14:45.097381Z"
    }
   },
   "outputs": [
    {
     "name": "stdout",
     "output_type": "stream",
     "text": [
      "Training data lenth is 3750\n",
      "training time: 0.979 s\n",
      "predicting time: 0.072 s\n",
      "1199 1250\n",
      "Estimator num is 400\n",
      "The accuracy is 95.92 %\n",
      "training time: 0.975 s\n",
      "predicting time: 0.075 s\n",
      "1202 1250\n",
      "Estimator num is 410\n",
      "The accuracy is 96.16 %\n",
      "training time: 1.01 s\n",
      "predicting time: 0.077 s\n",
      "1200 1250\n",
      "Estimator num is 420\n",
      "The accuracy is 96.0 %\n",
      "training time: 1.05 s\n",
      "predicting time: 0.087 s\n",
      "1201 1250\n",
      "Estimator num is 430\n",
      "The accuracy is 96.08 %\n",
      "training time: 1.05 s\n",
      "predicting time: 0.08 s\n",
      "1200 1250\n",
      "Estimator num is 440\n",
      "The accuracy is 96.0 %\n",
      "training time: 1.078 s\n",
      "predicting time: 0.082 s\n",
      "1199 1250\n",
      "Estimator num is 450\n",
      "The accuracy is 95.92 %\n",
      "training time: 1.154 s\n",
      "predicting time: 0.116 s\n",
      "1200 1250\n",
      "Estimator num is 460\n",
      "The accuracy is 96.0 %\n",
      "training time: 1.14 s\n",
      "predicting time: 0.087 s\n",
      "1201 1250\n",
      "Estimator num is 470\n",
      "The accuracy is 96.08 %\n",
      "training time: 1.167 s\n",
      "predicting time: 0.086 s\n",
      "1201 1250\n",
      "Estimator num is 480\n",
      "The accuracy is 96.08 %\n",
      "training time: 1.177 s\n",
      "predicting time: 0.088 s\n",
      "1201 1250\n",
      "Estimator num is 490\n",
      "The accuracy is 96.08 %\n",
      "The max acc is 96.16\n"
     ]
    },
    {
     "data": {
      "image/png": "[encoded data removed]",
      "text/plain": [
       "<Figure size 432x288 with 1 Axes>"
      ]
     },
     "metadata": {
      "needs_background": "light"
     },
     "output_type": "display_data"
    }
   ],
   "source": [
    "from time import time\n",
    "from sklearn.ensemble import RandomForestClassifier\n",
    "features_train, labels_train, features_test, labels_test = makeTerrainData()\n",
    "print(\"Training data lenth is\", len(features_train))\n",
    "acc_list = []\n",
    "estimators_list = []\n",
    "erange = range(400,500,10)\n",
    "for estimators in erange:\n",
    "    clf = RandomForestClassifier(n_estimators=estimators)\n",
    "    t0 = time()\n",
    "    clf = clf.fit(features_train, labels_train)\n",
    "    print(\"training time:\", round(time()-t0, 3), \"s\")\n",
    "\n",
    "    t1 = time()\n",
    "    result = clf.predict(features_test)\n",
    "    print(\"predicting time:\", round(time()-t1, 3), \"s\")\n",
    "\n",
    "    corr = 0\n",
    "    for x in range(0, len(result)):\n",
    "        if result[x] == labels_test[x]:\n",
    "            corr = corr + 1\n",
    "    print(corr, len(result))\n",
    "    num = float(len(result))\n",
    "    acc = 0.0\n",
    "    acc = round(corr/num*100, 3)\n",
    "    print(\"Estimator num is\", estimators)\n",
    "    print(\"The accuracy is\", acc, \"%\")\n",
    "    acc_list.append(acc)\n",
    "    estimators_list.append(estimators)\n",
    "print (\"The max acc is\", max(acc_list))\n",
    "plt.figure()\n",
    "plt.plot(estimators_list, acc_list, \"o--\")\n",
    "#prettyPicture(clf, features_test, labels_test)\n",
    "#plt.legend()\n",
    "plt.xlabel(\"Num of estimator\")\n",
    "plt.ylabel(\"Accuracy\")\n",
    "plt.savefig(\"Random_Forest_acc.png\",dpi=200)"
   ]
  }
 ],
 "metadata": {
  "kernelspec": {
   "display_name": "Python 3",
   "language": "python",
   "name": "python3"
  },
  "language_info": {
   "codemirror_mode": {
    "name": "ipython",
    "version": 3
   },
   "file_extension": ".py",
   "mimetype": "text/x-python",
   "name": "python",
   "nbconvert_exporter": "python",
   "pygments_lexer": "ipython3",
   "version": "3.7.3"
  },
  "toc-showmarkdowntxt": false
 },
 "nbformat": 4,
 "nbformat_minor": 4
}
