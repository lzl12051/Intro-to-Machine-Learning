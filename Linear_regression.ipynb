{
 "cells": [
  {
   "cell_type": "markdown",
   "metadata": {
    "toc-hr-collapsed": true
   },
   "source": [
    "# Sklearn 中的线性回归计算"
   ]
  },
  {
   "cell_type": "code",
   "execution_count": 1,
   "metadata": {
    "ExecuteTime": {
     "end_time": "2019-08-12T12:45:35.516063Z",
     "start_time": "2019-08-12T12:45:35.507465Z"
    }
   },
   "outputs": [],
   "source": [
    "from prettyPicture import prettyPicture\n",
    "import matplotlib.pyplot as plt\n",
    "import numpy\n",
    "import matplotlib\n",
    "#声明 sklearn 的线性模型\n",
    "from sklearn import linear_model\n",
    "matplotlib.use('agg')\n",
    "%matplotlib inline"
   ]
  },
  {
   "cell_type": "markdown",
   "metadata": {},
   "source": [
    "先导入了训练数据，因为 github 上没有给出生成数据的源码，所以就用笨办法复制出来了。"
   ]
  },
  {
   "cell_type": "code",
   "execution_count": 2,
   "metadata": {
    "ExecuteTime": {
     "end_time": "2019-08-12T12:45:37.920203Z",
     "start_time": "2019-08-12T12:45:37.897902Z"
    },
    "code_folding": [
     0,
     75,
     100,
     175
    ],
    "run_control": {
     "marked": false
    }
   },
   "outputs": [],
   "source": [
    "ages_train = [[36],\n",
    "              [61],\n",
    "              [30],\n",
    "              [21],\n",
    "              [47],\n",
    "              [35],\n",
    "              [44],\n",
    "              [64],\n",
    "              [24],\n",
    "              [55],\n",
    "              [38],\n",
    "              [47],\n",
    "              [60],\n",
    "              [61],\n",
    "              [34],\n",
    "              [24],\n",
    "              [23],\n",
    "              [30],\n",
    "              [35],\n",
    "              [50],\n",
    "              [45],\n",
    "              [20],\n",
    "              [32],\n",
    "              [58],\n",
    "              [62],\n",
    "              [65],\n",
    "              [59],\n",
    "              [44],\n",
    "              [45],\n",
    "              [32],\n",
    "              [30],\n",
    "              [52],\n",
    "              [51],\n",
    "              [64],\n",
    "              [30],\n",
    "              [53],\n",
    "              [39],\n",
    "              [48],\n",
    "              [45],\n",
    "              [30],\n",
    "              [45],\n",
    "              [49],\n",
    "              [21],\n",
    "              [29],\n",
    "              [32],\n",
    "              [25],\n",
    "              [22],\n",
    "              [32],\n",
    "              [41],\n",
    "              [57],\n",
    "              [49],\n",
    "              [63],\n",
    "              [56],\n",
    "              [46],\n",
    "              [48],\n",
    "              [48],\n",
    "              [32],\n",
    "              [21],\n",
    "              [59],\n",
    "              [43],\n",
    "              [24],\n",
    "              [53],\n",
    "              [64],\n",
    "              [29],\n",
    "              [43],\n",
    "              [53],\n",
    "              [27],\n",
    "              [32],\n",
    "              [27],\n",
    "              [33],\n",
    "              [37],\n",
    "              [65],\n",
    "              [58],\n",
    "              [49],\n",
    "              [39]]\n",
    "ages_test = [[57],\n",
    "             [27],\n",
    "             [29],\n",
    "             [22],\n",
    "             [23],\n",
    "             [57],\n",
    "             [37],\n",
    "             [30],\n",
    "             [49],\n",
    "             [49],\n",
    "             [31],\n",
    "             [21],\n",
    "             [37],\n",
    "             [24],\n",
    "             [37],\n",
    "             [22],\n",
    "             [46],\n",
    "             [65],\n",
    "             [38],\n",
    "             [51],\n",
    "             [30],\n",
    "             [34],\n",
    "             [58],\n",
    "             [52],\n",
    "             [63]]\n",
    "net_worths_train = [[154.47839379],\n",
    " [360.51919127],\n",
    " [182.8740687 ],\n",
    " [152.95240174],\n",
    " [282.08225001],\n",
    " [221.45112819],\n",
    " [285.44221089],\n",
    " [378.22469102],\n",
    " [165.02792073],\n",
    " [397.99960114],\n",
    " [270.37610018],\n",
    " [306.3198933 ],\n",
    " [373.56695844],\n",
    " [444.41851262],\n",
    " [226.965441  ],\n",
    " [131.57444916],\n",
    " [ 84.60912039],\n",
    " [184.61959514],\n",
    " [223.18690359],\n",
    " [207.71019584],\n",
    " [232.416254  ],\n",
    " [ 68.50785195],\n",
    " [214.28450286],\n",
    " [338.4744524 ],\n",
    " [390.98188273],\n",
    " [442.86608471],\n",
    " [359.36651466],\n",
    " [274.46011101],\n",
    " [258.75849883],\n",
    " [242.28488905],\n",
    " [168.96329229],\n",
    " [315.96894798],\n",
    " [309.38452172],\n",
    " [357.69156284],\n",
    " [167.42971826],\n",
    " [321.88386501],\n",
    " [230.64351414],\n",
    " [221.61319504],\n",
    " [236.99660104],\n",
    " [146.98675519],\n",
    " [272.46312449],\n",
    " [347.4899809 ],\n",
    " [171.39131592],\n",
    " [195.70582422],\n",
    " [174.19520982],\n",
    " [160.13310197],\n",
    " [121.81567387],\n",
    " [172.92311999],\n",
    " [244.28970598],\n",
    " [319.92903698],\n",
    " [326.11856612],\n",
    " [418.21705155],\n",
    " [321.91787624],\n",
    " [346.61576179],\n",
    " [338.74579962],\n",
    " [337.25120476],\n",
    " [225.90754152],\n",
    " [125.71942795],\n",
    " [315.62255804],\n",
    " [250.12080986],\n",
    " [128.80959185],\n",
    " [318.88150497],\n",
    " [400.20453827],\n",
    " [165.84670878],\n",
    " [281.90004439],\n",
    " [405.34112738],\n",
    " [182.00053726],\n",
    " [203.67043106],\n",
    " [111.76007255],\n",
    " [194.20585218],\n",
    " [244.21335878],\n",
    " [418.09481108],\n",
    " [370.8545438 ],\n",
    " [298.82364093],\n",
    " [224.97102456]]\n",
    "net_worths_test = [[332.18173551],\n",
    " [135.18129907],\n",
    " [104.71879021],\n",
    " [144.35473125],\n",
    " [174.44738917],\n",
    " [414.87595076],\n",
    " [172.70940207],\n",
    " [248.42119426],\n",
    " [319.99473158],\n",
    " [237.2532867 ],\n",
    " [114.24724342],\n",
    " [140.92849086],\n",
    " [270.27180508],\n",
    " [103.9602569 ],\n",
    " [264.15179648],\n",
    " [158.03069732],\n",
    " [295.37444943],\n",
    " [387.08303049],\n",
    " [205.16025588],\n",
    " [270.90173504],\n",
    " [158.70623166],\n",
    " [275.08574623],\n",
    " [395.0010329 ],\n",
    " [354.5386632 ],\n",
    " [455.27146266]]"
   ]
  },
  {
   "cell_type": "code",
   "execution_count": 3,
   "metadata": {
    "ExecuteTime": {
     "end_time": "2019-08-12T12:45:38.821156Z",
     "start_time": "2019-08-12T12:45:38.816609Z"
    }
   },
   "outputs": [],
   "source": [
    "def studentReg(ages_train, net_worths_train):\n",
    "    #声明一个线性回归器\n",
    "    reg = linear_model.LinearRegression()\n",
    "    #开始训练\n",
    "    reg.fit(ages_train, net_worths_train)\n",
    "    #返回回归器\n",
    "    return reg"
   ]
  },
  {
   "cell_type": "markdown",
   "metadata": {},
   "source": [
    "**“R 平方”**是一种用来评估回归方程效果的参数。"
   ]
  },
  {
   "cell_type": "code",
   "execution_count": 4,
   "metadata": {
    "ExecuteTime": {
     "end_time": "2019-08-12T12:53:21.303044Z",
     "start_time": "2019-08-12T12:53:21.292207Z"
    }
   },
   "outputs": [
    {
     "name": "stdout",
     "output_type": "stream",
     "text": [
      "Slope: [[6.47354955]]\n",
      "Interception: [-14.35378331]\n",
      "The R-squared score for test dataset is 0.8123657292322277\n",
      "The R-squared score for train dataset is 0.8745882358226372\n"
     ]
    }
   ],
   "source": [
    "reg = studentReg(ages_train, net_worths_train)\n",
    "slope = reg.coef_\n",
    "interception = reg.intercept_\n",
    "r_squared_score_test = reg.score(ages_test, net_worths_test)\n",
    "r_squared_score_train = reg.score(ages_train, net_worths_train)\n",
    "\n",
    "print(\"Slope:\",slope)\n",
    "print(\"Interception:\",interception)\n",
    "print(\"The R-squared score for test dataset is\",r_squared_score_test)\n",
    "print(\"The R-squared score for train dataset is\",r_squared_score_train)\n",
    "\n",
    "# plt.savefig(\"Linear_regression.png\")\n",
    "#output_image(\"test.png\", \"png\", open(\"test.png\", \"rb\").read())"
   ]
  },
  {
   "cell_type": "markdown",
   "metadata": {},
   "source": [
    "绘图代码放在下边"
   ]
  },
  {
   "cell_type": "code",
   "execution_count": 5,
   "metadata": {
    "ExecuteTime": {
     "end_time": "2019-08-12T12:53:35.672901Z",
     "start_time": "2019-08-12T12:53:35.350106Z"
    }
   },
   "outputs": [
    {
     "data": {
      "image/png": "[encoded data removed]",
      "text/plain": [
       "<Figure size 432x288 with 1 Axes>"
      ]
     },
     "metadata": {
      "needs_background": "light"
     },
     "output_type": "display_data"
    }
   ],
   "source": [
    "plt.clf()\n",
    "plt.scatter(ages_train, net_worths_train, color=\"b\", label=\"train data\")\n",
    "plt.scatter(ages_test, net_worths_test, color=\"r\", label=\"test data\")\n",
    "plt.plot(ages_test, reg.predict(ages_test), color=\"black\")\n",
    "plt.legend(loc=2)\n",
    "plt.xlabel(\"ages\")\n",
    "plt.ylabel(\"net worths\")\n",
    "plt.show()\n",
    "\n",
    "print  (  \"he\")"
   ]
  },
  {
   "cell_type": "code",
   "execution_count": null,
   "metadata": {},
   "outputs": [],
   "source": []
  }
 ],
 "metadata": {
  "kernelspec": {
   "display_name": "Python 3",
   "language": "python",
   "name": "python3"
  },
  "language_info": {
   "codemirror_mode": {
    "name": "ipython",
    "version": 3
   },
   "file_extension": ".py",
   "mimetype": "text/x-python",
   "name": "python",
   "nbconvert_exporter": "python",
   "pygments_lexer": "ipython3",
   "version": "3.7.3"
  },
  "toc-showmarkdowntxt": true
 },
 "nbformat": 4,
 "nbformat_minor": 4
}
